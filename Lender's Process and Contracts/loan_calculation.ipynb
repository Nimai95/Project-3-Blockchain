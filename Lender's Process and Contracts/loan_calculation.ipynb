{
 "cells": [
  {
   "cell_type": "code",
   "execution_count": 1,
   "id": "59ab6d4f-ff7b-494a-82d6-3ff0d4b94164",
   "metadata": {},
   "outputs": [
    {
     "name": "stdin",
     "output_type": "stream",
     "text": [
      "Enter loan amount \n",
      " 1000\n",
      "How many years will you have the loan? \n",
      " 1\n",
      "Enter Interest Rate \n",
      " 10\n"
     ]
    },
    {
     "name": "stdout",
     "output_type": "stream",
     "text": [
      "The total payment is\n",
      " (1100.00) \n"
     ]
    }
   ],
   "source": [
    "# Declares and asks for user to input loan amount. Then converts to float\n",
    "loanAmount = input('Enter loan amount \\n')\n",
    "loanAmount = float(loanAmount)\n",
    "\n",
    "# Declares and asks user to input number of payment term \n",
    "loanduration = input('How many years will you have the loan? \\n')\n",
    "loanduration = float(loanduration)\n",
    "\n",
    "# Declares and asks user to input interest rate. Then converts to float and input interest rate is /100\n",
    "interestRate = input('Enter Interest Rate \\n')\n",
    "interestRate = float(interestRate) / 100 \n",
    "\n",
    "# Formula to calculate monthly payments\n",
    "payoffamount = loanAmount * (interestRate * (1 + interestRate)\n",
    "                                ** loanduration) / ((1 + interestRate) ** loanduration - 1)\n",
    "\n",
    "# Prints monthly payment on next line and reformat the string to a float using 2 decimal places\n",
    "print(\"The total payment is\\n (%.2f) \" % payoffamount)"
   ]
  },
  {
   "cell_type": "code",
   "execution_count": null,
   "id": "dc863b98-9012-4016-a84a-a0d914d2b3ea",
   "metadata": {},
   "outputs": [],
   "source": []
  }
 ],
 "metadata": {
  "kernelspec": {
   "display_name": "Python 3 (ipykernel)",
   "language": "python",
   "name": "python3"
  },
  "language_info": {
   "codemirror_mode": {
    "name": "ipython",
    "version": 3
   },
   "file_extension": ".py",
   "mimetype": "text/x-python",
   "name": "python",
   "nbconvert_exporter": "python",
   "pygments_lexer": "ipython3",
   "version": "3.9.7"
  }
 },
 "nbformat": 4,
 "nbformat_minor": 5
}
